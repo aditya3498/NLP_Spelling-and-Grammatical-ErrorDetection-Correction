{
 "cells": [
  {
   "cell_type": "markdown",
   "metadata": {
    "colab_type": "text",
    "id": "OZgGNXZEfywz"
   },
   "source": [
    "#Task 1: Tokenization\n",
    "\n"
   ]
  },
  {
   "cell_type": "markdown",
   "metadata": {
    "colab": {},
    "colab_type": "code",
    "id": "deLPHwbIX3-r"
   },
   "source": [
    "Tokenization"
   ]
  },
  {
   "cell_type": "code",
   "execution_count": 1,
   "metadata": {
    "colab": {},
    "colab_type": "code",
    "id": "08q0ospof2z9"
   },
   "outputs": [
    {
     "name": "stdout",
     "output_type": "stream",
     "text": [
      "['', \"Lincoln's\", 'First', 'Inaugural', 'Address', 'March', '4', ',', '1861', 'Fellow', 'citizens', 'of', 'the', 'United', 'States:', 'in', 'compliance', 'with', 'a', 'custom', 'as', 'old', 'as', 'the', 'government', 'itself', ',', 'I', 'appear', 'before', 'you', 'to', 'address', 'you', 'briefly', 'and', 'to', 'take', ',', 'in', 'your', 'presence', ',', 'the', 'oath', 'prescribed', 'by', 'the', 'Constitution', 'of', 'the', 'United', 'States', ',', 'to', 'be', 'taken', 'by', 'the', 'President', '\"before', 'he', 'enters', 'on', 'the', 'execution', 'of', 'his', 'office', '.', '\"', 'I', 'do', 'not', 'consider', 'it', 'necessary', ',', 'at', 'present', ',', 'for', 'me', 'to', 'discuss', 'those', 'matters', 'of', 'administration', 'about', 'which', 'there', 'is', 'no', 'special', 'anxiety', ',', 'or', 'excitement', '.', 'Apprehension', 'seems', 'to', 'exist', 'among', 'the', 'people', 'of', 'the', 'Southern', 'States', 'that', 'by', 'the', 'accession', 'of', 'a', 'Republican', 'administration', 'their', 'property', 'and', 'their', 'peace', 'and', 'personal', 'security', 'are', 'to', 'be', 'endangered', '.', 'There', 'has', 'never', 'been', 'any', 'reasonable', 'cause', 'for', 'such', 'apprehension', '.', 'Indeed', ',', 'the', 'most', 'ample', 'evidence', 'to', 'the', 'contrary', 'has', 'all', 'the', 'while', 'existed', 'and', 'been', 'open', 'to', 'their', 'inspection', '.', 'It', 'is', 'found', 'in', 'nearly', 'all', 'the', 'published', 'speeches', 'of', 'him', 'who', 'now', 'addresses', 'you', '.', 'I', 'do', 'but', 'quote', 'from', 'one', 'of', 'those', 'speeches', 'when', 'I', 'declare', 'that', '\"I', 'have', 'no', 'purpose', ',', 'directly', 'or', 'indirectly', ',', 'to', 'interfere', 'with', 'the', 'institution', 'of', 'slavery', 'where', 'it', 'exists', '.', 'I', 'believe', 'I', 'have', 'no', 'lawful', 'right', 'to', 'do', 'so', ',', 'and', 'I', 'have', 'no', 'inclination', 'to', 'do', 'so', '.', '\"', 'Those', 'who', 'nominated', 'and', 'elected', 'me', 'did', 'so', 'with', 'full', 'knowledge', 'that', 'I', 'had', 'made', 'this', 'and', 'many', 'similar', 'declarations', ',', 'and', 'had', 'never', 'recanted', 'them', '.', 'And', ',', 'more', 'than', 'this', ',', 'they', 'placed', 'in', 'the', 'platform', 'for', 'my', 'acceptance', ',', 'and', 'as', 'a', 'law', 'to', 'themselves', 'and', 'to', 'me', ',', 'the', 'clear', 'and', 'emphatic', 'resolution', 'which', 'I', 'now', 'read:', '\"Resolved:', 'that', 'the', 'maintenance', 'inviolate', 'of', 'the', 'rights', 'of', 'the', 'States', ',', 'and', 'especially', 'the', 'right', 'of', 'each', 'State', 'to', 'order', 'and', 'control', 'its', 'own', 'domestic', 'institutions', 'according', 'to', 'its', 'own', 'judgment', 'exclusively', ',', 'is', 'essential', 'to', 'that', 'balance', 'of', 'power', 'on', 'which', 'the', 'perfection', 'and', 'endurance', 'of', 'our', 'political', 'fabric', 'depend', ',', 'and', 'we', 'denounce', 'the', 'lawless', 'invasion', 'by', 'armed', 'force', 'of', 'the', 'soil', 'of', 'any', 'State', 'or', 'Territory', ',', 'no', 'matter', 'under', 'what', 'pretext', ',', 'as', 'among', 'the', 'gravest', 'of', 'crimes', '.', '\"', 'I', 'now', 'reiterate', 'these', 'sentiments;', 'and', ',', 'in', 'doing', 'so', ',', 'I', 'only', 'press', 'upon', 'the', 'public', 'attention', 'the', 'most', 'conclusive', 'evidence', 'of', 'which', 'the', 'case', 'is', 'susceptible', ',', 'that', 'the', 'property', ',', 'peace', ',', 'and', 'security', 'of', 'no', 'section', 'are', 'to', 'be', 'in', 'any', 'wise', 'endangered', 'by', 'the', 'now', 'incoming', 'administration', '.', 'I', 'add', ',', 'too', ',', 'that', 'all', 'the', 'protection', 'which', ',', 'consistently', 'with', 'the', 'Constitution', 'and', 'the', 'laws', ',', 'can', 'be', 'given', ',', 'will', 'be', 'cheerfully', 'given', 'to', 'all', 'the', 'States', 'when', 'lawfully', 'demanded', ',', 'for', 'whatever', 'cause--', 'as', 'cheerfully', 'to', 'one', 'section', 'as', 'to', 'another', '.', 'There', 'is', 'much', 'controversy', 'about', 'the', 'delivering', 'up', 'of', 'fugitives', 'from', 'service', 'or', 'labor', '.', 'The', 'clause', 'I', 'now', 'read', 'is', 'as', 'plainly', 'written', 'in', 'the', 'Constitution', 'as', 'any', 'other', 'of', 'its', 'provisions:', '\"No', 'person', 'held', 'to', 'service', 'or', 'labor', 'in', 'one', 'State', ',', 'under', 'the', 'laws', 'thereof', ',', 'escaping', 'into', 'another', ',', 'shall', 'in', 'consequence', 'of', 'any', 'law', 'or', 'regulation', 'therein', 'be', 'discharged', 'from', 'such', 'service', 'or', 'labor', ',', 'but', 'shall', 'be', 'delivered', 'up', 'on', 'claim', 'of', 'the', 'party', 'to', 'whom', 'such', 'service', 'or', 'labor', 'may', 'be', 'due', '.', '\"', 'It', 'is', 'scarcely', 'questioned', 'that', 'this', 'provision', 'was', 'intended', 'by', 'those', 'who', 'made', 'it', 'for', 'the', 'reclaiming', 'of', 'what', 'we', 'call', 'fugitive', 'slaves;', 'and', 'the', 'intention', 'of', 'the', 'lawgiver', 'is', 'the', 'law', '.', 'All', 'members', 'of', 'Congress', 'swear', 'their', 'support', 'to', 'the', 'whole', 'Constitution--', 'to', 'this', 'provision', 'as', 'much', 'as', 'to', 'any', 'other', '.', 'To', 'the', 'proposition', ',', 'then', ',', 'that', 'slaves', 'whose', 'cases', 'come', 'within', 'the', 'terms', 'of', 'this', 'clause', '\"shall', 'be', 'delivered', 'up\"', ',', 'their', 'oaths', 'are', 'unanimous', '.', 'Now', ',', 'if', 'they', 'would', 'make', 'the', 'effort', 'in', 'good', 'temper', ',', 'could', 'they', 'not', 'with', 'nearly', 'equal', 'unanimity', 'frame', 'and', 'pass', 'a', 'law', 'by', 'means', 'of', 'which', 'to', 'keep', 'good', 'that', 'unanimous', 'oath?', 'There', 'is', 'some', 'difference', 'of', 'opinion', 'whether', 'this', 'clause', 'should', 'be', 'enforced', 'by', 'national', 'or', 'by', 'State', 'authority;', 'but', 'surely', 'that', 'difference', 'is', 'not', 'a', 'very', 'material', 'one', '.', 'If', 'the', 'slave', 'is', 'to', 'be', 'surrendered', ',', 'it', 'can', 'be', 'of', 'but', 'little', 'consequence', 'to', 'him', 'or', 'to', 'others', 'by', 'which', 'authority', 'it', 'is', 'done', '.', 'And', 'should', 'any', 'one', 'in', 'any', 'case', 'be', 'content', 'that', 'his', 'oath', 'shall', 'go', 'unkept', 'on', 'a', 'merely', 'unsubstantial', 'controversy', 'as', 'to', 'HOW', 'it', 'shall', 'be', 'kept?', 'Again', ',', 'in', 'any', 'law', 'upon', 'this', 'subject', ',', 'ought', 'not', 'all', 'the', 'safeguards', 'of', 'liberty', 'known', 'in', 'civilized', 'and', 'humane', 'jurisprudence', 'to', 'be', 'introduced', ',', 'so', 'that', 'a', 'free', 'man', 'be', 'not', ',', 'in', 'any', 'case', ',', 'surrendered', 'as', 'a', 'slave?', 'And', 'might', 'it', 'not', 'be', 'well', 'at', 'the', 'same', 'time', 'to', 'provide', 'by', 'law', 'for', 'the', 'enforcement', 'of', 'that', 'clause', 'in', 'the', 'Constitution', 'which', 'guarantees', 'that', '\"the', 'citizen', 'of', 'each', 'State', 'shall', 'be', 'entitled', 'to', 'all', 'privileges', 'and', 'immunities', 'of', 'citizens', 'in', 'the', 'several', 'States?\"', 'I', 'take', 'the', 'official', 'oath', 'today', 'with', 'no', 'mental', 'reservations', ',', 'and', 'with', 'no', 'purpose', 'to', 'construe', 'the', 'Constitution', 'or', 'laws', 'by', 'any', 'hypercritical', 'rules', '.', 'And', 'while', 'I', 'do', 'not', 'choose', 'now', 'to', 'specify', 'particular', 'acts', 'of', 'Congress', 'as', 'proper', 'to', 'be', 'enforced', ',', 'I', 'do', 'suggest', 'that', 'it', 'will', 'be', 'much', 'safer', 'for', 'all', ',', 'both', 'in', 'official', 'and', 'private', 'stations', ',', 'to', 'conform', 'to', 'and', 'abide', 'by', 'all', 'those', 'acts', 'which', 'stand', 'unrepealed', ',', 'than', 'to', 'violate', 'any', 'of', 'them', ',', 'trusting', 'to', 'find', 'impunity', 'in', 'having', 'them', 'held', 'to', 'be', 'unConstitutional', '.', 'It', 'is', 'seventy-two', 'years', 'since', 'the', 'first', 'inauguration', 'of', 'a', 'President', 'under', 'our', 'national', 'Constitution', '.', 'During', 'that', 'period', 'fifteen', 'different', 'and', 'greatly', 'distinguished', 'citizens', 'have', ',', 'in', 'succession', ',', 'administered', 'the', 'executive', 'branch', 'of', 'the', 'government', '.', 'They', 'have', 'conducted', 'it', 'through', 'many', 'perils', ',', 'and', 'generally', 'with', 'great', 'success', '.', 'Yet', ',', 'with', 'all', 'this', 'scope', 'of', 'precedent', ',', 'I', 'now', 'enter', 'upon', 'the', 'same', 'task', 'for', 'the', 'brief', 'Constitutional', 'term', 'of', 'four', 'years', 'under', 'great', 'and', 'peculiar', 'difficulty', '.', 'A', 'disruption', 'of', 'the', 'Federal', 'Union', ',', 'heretofore', 'only', 'menaced', ',', 'is', 'now', 'formidably', 'attempted', '.', 'I', 'hold', 'that', ',', 'in', 'contemplation', 'of', 'universal', 'law', 'and', 'of', 'the', 'Constitution', ',', 'the', 'Union', 'of', 'these', 'States', 'is', 'perpetual', '.', 'Perpetuity', 'is', 'implied', ',', 'if', 'not', 'expressed', ',', 'in', 'the', 'fundamental', 'law', 'of', 'all', 'national', 'governments', '.', 'It', 'is', 'safe', 'to', 'assert', 'that', 'no', 'government', 'proper', 'ever', 'had', 'a', 'provision', 'in', 'its', 'organic', 'law', 'for', 'its', 'own', 'termination', '.', 'Continue', 'to', 'execute', 'all', 'the', 'express', 'provisions', 'of', 'our', 'National', 'Constitution', ',', 'and', 'the', 'Union', 'will', 'endure', 'forever--it', 'being', 'impossible', 'to', 'destroy', 'it', 'except', 'by', 'some', 'action', 'not', 'provided', 'for', 'in', 'the', 'instrument', 'itself', '.', 'Again', ',', 'if', 'the', 'United', 'States', 'be', 'not', 'a', 'government', 'proper', ',', 'but', 'an', 'association', 'of', 'States', 'in', 'the', 'nature', 'of', 'contract', 'merely', ',', 'can', 'it', ',', 'as', 'a', 'contract', ',', 'be', 'peaceably', 'unmade', 'by', 'less', 'than', 'all', 'the', 'parties', 'who', 'made', 'it?', 'One', 'party', 'to', 'a', 'contract', 'may', 'violate', 'it--break', 'it', ',', 'so', 'to', 'speak;', 'but', 'does', 'it', 'not', 'require', 'all', 'to', 'lawfully', 'rescind', 'it?', 'Descending', 'from', 'these', 'general', 'principles', ',', 'we', 'find', 'the', 'proposition', 'that', 'in', 'legal', 'contemplation', 'the', 'Union', 'is', 'perpetual', 'confirmed', 'by', 'the', 'history', 'of', 'the', 'Union', 'itself', '.', 'The', 'Union', 'is', 'much', 'older', 'than', 'the', 'Constitution', '.', 'It', 'was', 'formed', ',', 'in', 'fact', ',', 'by', 'the', 'Articles', 'of', 'Association', 'in', '1774', '.', 'It', 'was', 'matured', 'and', 'continued', 'by', 'the', 'Declaration', 'of', 'Independence', 'in', '1776', '.', 'It', 'was', 'further', 'matured', ',', 'and', 'the', 'faith', 'of', 'all', 'the', 'then', 'thirteen', 'States', 'expressly', 'plighted', 'and', 'engaged', 'that', 'it', 'should', 'be', 'perpetual', ',', 'by', 'the', 'Articles', 'of', 'Confederation', 'in', '1778', '.', 'And', ',', 'finally', ',', 'in', '1787', 'one', 'of', 'the', 'declared', 'objects', 'for', 'ordaining', 'and', 'establishing', 'the', 'Constitution', 'was', '\"TO', 'FORM', 'A', 'MORE', 'PERFECT', 'UNION', '.', '\"', 'But', 'if', 'the', 'destruction', 'of', 'the', 'Union', 'by', 'one', 'or', 'by', 'a', 'part', 'only', 'of', 'the', 'States', 'be', 'lawfully', 'possible', ',', 'the', 'Union', 'is', 'LESS', 'perfect', 'than', 'before', 'the', 'Constitution', ',', 'having', 'lost', 'the', 'vital', 'element', 'of', 'perpetuity', '.', 'It', 'follows', 'from', 'these', 'views', 'that', 'no', 'State', 'upon', 'its', 'own', 'mere', 'motion', 'can', 'lawfully', 'get', 'out', 'of', 'the', 'Union;', 'that', 'Resolves', 'and', 'Ordinances', 'to', 'that', 'effect', 'are', 'legally', 'void;', 'and', 'that', 'acts', 'of', 'violence', ',', 'within', 'any', 'State', 'or', 'States', ',', 'against', 'the', 'authority', 'of', 'the', 'United', 'States', ',', 'are', 'insurrectionary', 'or', 'revolutionary', ',', 'according', 'to', 'circumstances', '.', 'I', 'therefore', 'consider', 'that', ',', 'in', 'view', 'of', 'the', 'Constitution', 'and', 'the', 'laws', ',', 'the', 'Union', 'is', 'unbroken;', 'and', 'to', 'the', 'extent', 'of', 'my', 'ability', 'I', 'shall', 'take', 'care', ',', 'as', 'the', 'Constitution', 'itself', 'expressly', 'enjoins', 'upon', 'me', ',', 'that', 'the', 'laws', 'of', 'the', 'Union', 'be', 'faithfully', 'executed', 'in', 'all', 'the', 'States', '.', 'Doing', 'this', 'I', 'deem', 'to', 'be', 'only', 'a', 'simple', 'duty', 'on', 'my', 'part;', 'and', 'I', 'shall', 'perform', 'it', 'so', 'far', 'as', 'practicable', ',', 'unless', 'my', 'rightful', 'masters', ',', 'the', 'American', 'people', ',', 'shall', 'withhold', 'the', 'requisite', 'means', ',', 'or', 'in', 'some', 'authoritative', 'manner', 'direct', 'the', 'contrary', '.', 'I', 'trust', 'this', 'will', 'not', 'be', 'regarded', 'as', 'a', 'menace', ',', 'but', 'only', 'as', 'the', 'declared', 'purpose', 'of', 'the', 'Union', 'that', 'it', 'WILL', 'Constitutionally', 'defend', 'and', 'maintain', 'itself', '.', 'In', 'doing', 'this', 'there', 'needs', 'to', 'be', 'no', 'bloodshed', 'or', 'violence;', 'and', 'there', 'shall', 'be', 'none', ',', 'unless', 'it', 'be', 'forced', 'upon', 'the', 'national', 'authority', '.', 'The', 'power', 'confided', 'to', 'me', 'will', 'be', 'used', 'to', 'hold', ',', 'occupy', ',', 'and', 'possess', 'the', 'property', 'and', 'places', 'belonging', 'to', 'the', 'government', ',', 'and', 'to', 'collect', 'the', 'duties', 'and', 'imposts;', 'but', 'beyond', 'what', 'may', 'be', 'necessary', 'for', 'these', 'objects', ',', 'there', 'will', 'be', 'no', 'invasion', ',', 'no', 'using', 'of', 'force', 'against', 'or', 'among', 'the', 'people', 'anywhere', '.', 'Where', 'hostility', 'to', 'the', 'United', 'States', ',', 'in', 'any', 'interior', 'locality', ',', 'shall', 'be', 'so', 'great', 'and', 'universal', 'as', 'to', 'prevent', 'competent', 'resident', 'citizens', 'from', 'holding', 'the', 'Federal', 'offices', ',', 'there', 'will', 'be', 'no', 'attempt', 'to', 'force', 'obnoxious', 'strangers', 'among', 'the', 'people', 'for', 'that', 'object', '.', 'While', 'the', 'strict', 'legal', 'right', 'may', 'exist', 'in', 'the', 'government', 'to', 'enforce', 'the', 'exercise', 'of', 'these', 'offices', ',', 'the', 'attempt', 'to', 'do', 'so', 'would', 'be', 'so', 'irritating', ',', 'and', 'so', 'nearly', 'impracticable', 'withal', ',', 'that', 'I', 'deem', 'it', 'better', 'to', 'forego', 'for', 'the', 'time', 'the', 'uses', 'of', 'such', 'offices', '.', 'The', 'mails', ',', 'unless', 'repelled', ',', 'will', 'continue', 'to', 'be', 'furnished', 'in', 'all', 'parts', 'of', 'the', 'Union', '.', 'So', 'far', 'as', 'possible', ',', 'the', 'people', 'everywhere', 'shall', 'have', 'that', 'sense', 'of', 'perfect', 'security', 'which', 'is', 'most', 'favorable', 'to', 'calm', 'thought', 'and', 'reflection', '.', 'The', 'course', 'here', 'indicated', 'will', 'be', 'followed', 'unless', 'current', 'events', 'and', 'experience', 'shall', 'show', 'a', 'modification', 'or', 'change', 'to', 'be', 'proper', ',', 'and', 'in', 'every', 'case', 'and', 'exigency', 'my', 'best', 'discretion', 'will', 'be', 'exercised', 'according', 'to', 'circumstances', 'actually', 'existing', ',', 'and', 'with', 'a', 'view', 'and', 'a', 'hope', 'of', 'a', 'peaceful', 'solution', 'of', 'the', 'national', 'troubles', 'and', 'the', 'restoration', 'of', 'fraternal', 'sympathies', 'and', 'affections', '.', 'That', 'there', 'are', 'persons', 'in', 'one', 'section', 'or', 'another', 'who', 'seek', 'to', 'destroy', 'the', 'Union', 'at', 'all', 'events', ',', 'and', 'are', 'glad', 'of', 'any', 'pretext', 'to', 'do', 'it', ',', 'I', 'will', 'neither', 'affirm', 'nor', 'deny;', 'but', 'if', 'there', 'be', 'such', ',', 'I', 'need', 'address', 'no', 'word', 'to', 'them', '.', 'To', 'those', ',', 'however', ',', 'who', 'really', 'love', 'the', 'Union', 'may', 'I', 'not', 'speak?', 'Before', 'entering', 'upon', 'so', 'grave', 'a', 'matter', 'as', 'the', 'destruction', 'of', 'our', 'national', 'fabric', ',', 'with', 'all', 'its', 'benefits', ',', 'its', 'memories', ',', 'and', 'its', 'hopes', ',', 'would', 'it', 'not', 'be', 'wise', 'to', 'ascertain', 'precisely', 'why', 'we', 'do', 'it?', 'Will', 'you', 'hazard', 'so', 'desperate', 'a', 'step', 'while', 'there', 'is', 'any', 'possibility', 'that', 'any', 'portion', 'of', 'the', 'ills', 'you', 'fly', 'from', 'have', 'no', 'real', 'existence?', 'Will', 'you', ',', 'while', 'the', 'certain', 'ills', 'you', 'fly', 'to', 'are', 'greater', 'than', 'all', 'the', 'real', 'ones', 'you', 'fly', 'from--will', 'you', 'risk', 'the', 'commission', 'of', 'so', 'fearful', 'a', 'mistake?', 'All', 'profess', 'to', 'be', 'content', 'in', 'the', 'Union', 'if', 'all', 'Constitutional', 'rights', 'can', 'be', 'maintained', '.', 'Is', 'it', 'true', ',', 'then', ',', 'that', 'any', 'right', ',', 'plainly', 'written', 'in', 'the', 'Constitution', ',', 'has', 'been', 'denied?', 'I', 'think', 'not', '.', 'Happily', 'the', 'human', 'mind', 'is', 'so', 'constituted', 'that', 'no', 'party', 'can', 'reach', 'to', 'the', 'audacity', 'of', 'doing', 'this', '.', 'Think', ',', 'if', 'you', 'can', ',', 'of', 'a', 'single', 'instance', 'in', 'which', 'a', 'plainly', 'written', 'provision', 'of', 'the', 'Constitution', 'has', 'ever', 'been', 'denied', '.', 'If', 'by', 'the', 'mere', 'force', 'of', 'numbers', 'a', 'majority', 'should', 'deprive', 'a', 'minority', 'of', 'any', 'clearly', 'written', 'Constitutional', 'right', ',', 'it', 'might', ',', 'in', 'a', 'moral', 'point', 'of', 'view', ',', 'justify', 'revolution--certainly', 'would', 'if', 'such', 'a', 'right', 'were', 'a', 'vital', 'one', '.', 'But', 'such', 'is', 'not', 'our', 'case', '.', 'All', 'the', 'vital', 'rights', 'of', 'minorities', 'and', 'of', 'individuals', 'are', 'so', 'plainly', 'assured', 'to', 'them', 'by', 'affirmations', 'and', 'negations', ',', 'guaranties', 'and', 'prohibitions', ',', 'in', 'the', 'Constitution', ',', 'that', 'controversies', 'never', 'arise', 'concerning', 'them', '.', 'But', 'no', 'organic', 'law', 'can', 'ever', 'be', 'framed', 'with', 'a', 'provision', 'specifically', 'applicable', 'to', 'every', 'question', 'which', 'may', 'occur', 'in', 'practical', 'administration', '.', 'No', 'foresight', 'can', 'anticipate', ',', 'nor', 'any', 'document', 'of', 'reasonable', 'length', 'contain', ',', 'express', 'provisions', 'for', 'all', 'possible', 'questions', '.', 'Shall', 'fugitives', 'from', 'labor', 'be', 'surrendered', 'by', 'national', 'or', 'State', 'authority?', 'The', 'Constitution', 'does', 'not', 'expressly', 'say', '.', 'May', 'Congress', 'prohibit', 'slavery', 'in', 'the', 'Territories?', 'The', 'Constitution', 'does', 'not', 'expressly', 'say', '.', 'MUST', 'Congress', 'protect', 'slavery', 'in', 'the', 'Territories?', 'The', 'Constitution', 'does', 'not', 'expressly', 'say', '.', 'From', 'questions', 'of', 'this', 'class', 'spring', 'all', 'our', 'constitutional', 'controversies', ',', 'and', 'we', 'divide', 'upon', 'them', 'into', 'majorities', 'and', 'minorities', '.', 'If', 'the', 'minority', 'will', 'not', 'acquiesce', ',', 'the', 'majority', 'must', ',', 'or', 'the', 'government', 'must', 'cease', '.', 'There', 'is', 'no', 'other', 'alternative;', 'for', 'continuing', 'the', 'government', 'is', 'acquiescence', 'on', 'one', 'side', 'or', 'the', 'other', '.', 'If', 'a', 'minority', 'in', 'such', 'case', 'will', 'secede', 'rather', 'than', 'acquiesce', ',', 'they', 'make', 'a', 'precedent', 'which', 'in', 'turn', 'will', 'divide', 'and', 'ruin', 'them;', 'for', 'a', 'minority', 'of', 'their', 'own', 'will', 'secede', 'from', 'them', 'whenever', 'a', 'majority', 'refuses', 'to', 'be', 'controlled', 'by', 'such', 'minority', '.', 'For', 'instance', ',', 'why', 'may', 'not', 'any', 'portion', 'of', 'a', 'new', 'confederacy', 'a', 'year', 'or', 'two', 'hence', 'arbitrarily', 'secede', 'again', ',', 'precisely', 'as', 'portions', 'of', 'the', 'present', 'Union', 'now', 'claim', 'to', 'secede', 'from', 'it?', 'All', 'who', 'cherish', 'disunion', 'sentiments', 'are', 'now', 'being', 'educated', 'to', 'the', 'exact', 'temper', 'of', 'doing', 'this', '.', 'Is', 'there', 'such', 'perfect', 'identity', 'of', 'interests', 'among', 'the', 'States', 'to', 'compose', 'a', 'new', 'Union', ',', 'as', 'to', 'produce', 'harmony', 'only', ',', 'and', 'prevent', 'renewed', 'secession?', 'Plainly', ',', 'the', 'central', 'idea', 'of', 'secession', 'is', 'the', 'essence', 'of', 'anarchy', '.', 'A', 'majority', 'held', 'in', 'restraint', 'by', 'constitutional', 'checks', 'and', 'limitations', ',', 'and', 'always', 'changing', 'easily', 'with', 'deliberate', 'changes', 'of', 'popular', 'opinions', 'and', 'sentiments', ',', 'is', 'the', 'only', 'true', 'sovereign', 'of', 'a', 'free', 'people', '.', 'Whoever', 'rejects', 'it', 'does', ',', 'of', 'necessity', ',', 'fly', 'to', 'anarchy', 'or', 'to', 'despotism', '.', 'Unanimity', 'is', 'impossible;', 'the', 'rule', 'of', 'a', 'minority', ',', 'as', 'a', 'permanent', 'arrangement', ',', 'is', 'wholly', 'inadmissible;', 'so', 'that', ',', 'rejecting', 'the', 'majority', 'principle', ',', 'anarchy', 'or', 'despotism', 'in', 'some', 'form', 'is', 'all', 'that', 'is', 'left', '.', 'I', 'do', 'not', 'forget', 'the', 'position', ',', 'assumed', 'by', 'some', ',', 'that', 'Constitutional', 'questions', 'are', 'to', 'be', 'decided', 'by', 'the', 'Supreme', 'Court;', 'nor', 'do', 'I', 'deny', 'that', 'such', 'decisions', 'must', 'be', 'binding', ',', 'in', 'any', 'case', ',', 'upon', 'the', 'parties', 'to', 'a', 'suit', ',', 'as', 'to', 'the', 'object', 'of', 'that', 'suit', ',', 'while', 'they', 'are', 'also', 'entitled', 'to', 'very', 'high', 'respect', 'and', 'consideration', 'in', 'all', 'parallel', 'cases', 'by', 'all', 'other', 'departments', 'of', 'the', 'government', '.', 'And', 'while', 'it', 'is', 'obviously', 'possible', 'that', 'such', 'decision', 'may', 'be', 'erroneous', 'in', 'any', 'given', 'case', ',', 'still', 'the', 'evil', 'effect', 'following', 'it', ',', 'being', 'limited', 'to', 'that', 'particular', 'case', ',', 'with', 'the', 'chance', 'that', 'it', 'may', 'be', 'overruled', 'and', 'never', 'become', 'a', 'precedent', 'for', 'other', 'cases', ',', 'can', 'better', 'be', 'borne', 'than', 'could', 'the', 'evils', 'of', 'a', 'different', 'practice', '.', 'At', 'the', 'same', 'time', ',', 'the', 'candid', 'citizen', 'must', 'confess', 'that', 'if', 'the', 'policy', 'of', 'the', 'government', ',', 'upon', 'vital', 'questions', 'affecting', 'the', 'whole', 'people', ',', 'is', 'to', 'be', 'irrevocably', 'fixed', 'by', 'decisions', 'of', 'the', 'Supreme', 'Court', ',', 'the', 'instant', 'they', 'are', 'made', ',', 'in', 'ordinary', 'litigation', 'between', 'parties', 'in', 'personal', 'actions', ',', 'the', 'people', 'will', 'have', 'ceased', 'to', 'be', 'their', 'own', 'rulers', ',', 'having', 'to', 'that', 'extent', 'practically', 'resigned', 'their', 'government', 'into', 'the', 'hands', 'of', 'that', 'eminent', 'tribunal', '.', 'Nor', 'is', 'there', 'in', 'this', 'view', 'any', 'assault', 'upon', 'the', 'court', 'or', 'the', 'judges', '.', 'It', 'is', 'a', 'duty', 'from', 'which', 'they', 'may', 'not', 'shrink', 'to', 'decide', 'cases', 'properly', 'brought', 'before', 'them', ',', 'and', 'it', 'is', 'no', 'fault', 'of', 'theirs', 'if', 'others', 'seek', 'to', 'turn', 'their', 'decisions', 'to', 'political', 'purposes', '.', 'One', 'section', 'of', 'our', 'country', 'believes', 'slavery', 'is', 'RIGHT', ',', 'and', 'ought', 'to', 'be', 'extended', ',', 'while', 'the', 'other', 'believes', 'it', 'is', 'WRONG', ',', 'and', 'ought', 'not', 'to', 'be', 'extended', '.', 'This', 'is', 'the', 'only', 'substantial', 'dispute', '.', 'The', 'fugitive-slave', 'clause', 'of', 'the', 'Constitution', ',', 'and', 'the', 'law', 'for', 'the', 'suppression', 'of', 'the', 'foreign', 'slave-trade', ',', 'are', 'each', 'as', 'well', 'enforced', ',', 'perhaps', ',', 'as', 'any', 'law', 'can', 'ever', 'be', 'in', 'a', 'community', 'where', 'the', 'moral', 'sense', 'of', 'the', 'people', 'imperfectly', 'supports', 'the', 'law', 'itself', '.', 'The', 'great', 'body', 'of', 'the', 'people', 'abide', 'by', 'the', 'dry', 'legal', 'obligation', 'in', 'both', 'cases', ',', 'and', 'a', 'few', 'break', 'over', 'in', 'each', '.', 'This', ',', 'I', 'think', ',', 'cannot', 'be', 'perfectly', 'cured;', 'and', 'it', 'would', 'be', 'worse', 'in', 'both', 'cases', 'AFTER', 'the', 'separation', 'of', 'the', 'sections', 'than', 'BEFORE', '.', 'The', 'foreign', 'slave-trade', ',', 'now', 'imperfectly', 'suppressed', ',', 'would', 'be', 'ultimately', 'revived', ',', 'without', 'restriction', ',', 'in', 'one', 'section', ',', 'while', 'fugitive', 'slaves', ',', 'now', 'only', 'partially', 'surrendered', ',', 'would', 'not', 'be', 'surrendered', 'at', 'all', 'by', 'the', 'other', '.', 'Physically', 'speaking', ',', 'we', 'cannot', 'separate', '.', 'We', 'cannot', 'remove', 'our', 'respective', 'sections', 'from', 'each', 'other', ',', 'nor', 'build', 'an', 'impassable', 'wall', 'between', 'them', '.', 'A', 'husband', 'and', 'wife', 'may', 'be', 'divorced', ',', 'and', 'go', 'out', 'of', 'the', 'presence', 'and', 'beyond', 'the', 'reach', 'of', 'each', 'other;', 'but', 'the', 'different', 'parts', 'of', 'our', 'country', 'cannot', 'do', 'this', '.', 'They', 'cannot', 'but', 'remain', 'face', 'to', 'face', ',', 'and', 'intercourse', ',', 'either', 'amicable', 'or', 'hostile', ',', 'must', 'continue', 'between', 'them', '.', 'Is', 'it', 'possible', ',', 'then', ',', 'to', 'make', 'that', 'intercourse', 'more', 'advantageous', 'or', 'more', 'satisfactory', 'after', 'separation', 'than', 'before?', 'Can', 'aliens', 'make', 'treaties', 'easier', 'than', 'friends', 'can', 'make', 'laws?', 'Can', 'treaties', 'be', 'more', 'faithfully', 'enforced', 'between', 'aliens', 'than', 'laws', 'can', 'among', 'friends?', 'Suppose', 'you', 'go', 'to', 'war', ',', 'you', 'cannot', 'fight', 'always;', 'and', 'when', ',', 'after', 'much', 'loss', 'on', 'both', 'sides', ',', 'an', 'no', 'gain', 'on', 'either', ',', 'you', 'cease', 'fighting', ',', 'the', 'identical', 'old', 'questions', 'as', 'to', 'terms', 'of', 'intercourse', 'are', 'again', 'upon', 'you', '.', 'This', 'country', ',', 'with', 'its', 'institutions', ',', 'belongs', 'to', 'the', 'people', 'who', 'inhabit', 'it', '.', 'Whenever', 'they', 'shall', 'grow', 'weary', 'of', 'the', 'existing', 'government', ',', 'they', 'can', 'exercise', 'their', 'CONSTITUTIONAL', 'right', 'of', 'amending', 'it', ',', 'or', 'their', 'REVOLUTIONARY', 'right', 'to', 'dismember', 'or', 'overthrow', 'it', '.', 'I', 'cannot', 'be', 'ignorant', 'of', 'the', 'fact', 'that', 'many', 'worthy', 'and', 'patriotic', 'citizens', 'are', 'desirous', 'of', 'having', 'the', 'national', 'Constitution', 'amended', '.', 'While', 'I', 'make', 'no', 'recommendation', 'of', 'amendments', ',', 'I', 'fully', 'recognize', 'the', 'rightful', 'authority', 'of', 'the', 'people', 'over', 'the', 'whole', 'subject', ',', 'to', 'be', 'exercised', 'in', 'either', 'of', 'the', 'modes', 'prescribed', 'in', 'the', 'instrument', 'itself;', 'and', 'I', 'should', ',', 'under', 'existing', 'circumstances', ',', 'favor', 'rather', 'than', 'oppose', 'a', 'fair', 'opportunity', 'being', 'afforded', 'the', 'people', 'to', 'act', 'upon', 'it', '.', 'I', 'will', 'venture', 'to', 'add', 'that', 'to', 'me', 'the', 'convention', 'mode', 'seems', 'preferable', ',', 'in', 'that', 'it', 'allows', 'amendments', 'to', 'originate', 'with', 'the', 'people', 'themselves', ',', 'instead', 'of', 'only', 'permitting', 'them', 'to', 'take', 'or', 'reject', 'propositions', 'originated', 'by', 'others', 'not', 'especially', 'chosen', 'for', 'the', 'purpose', ',', 'and', 'which', 'might', 'not', 'be', 'precisely', 'such', 'as', 'they', 'would', 'wish', 'to', 'either', 'accept', 'or', 'refuse', '.', 'I', 'understand', 'a', 'proposed', 'amendment', 'to', 'the', 'Constitution--which', 'amendment', ',', 'however', ',', 'I', 'have', 'not', 'seen--has', 'passed', 'Congress', ',', 'to', 'the', 'effect', 'that', 'the', 'Federal', 'Government', 'shall', 'never', 'interfere', 'with', 'the', 'domestic', 'institutions', 'of', 'the', 'States', ',', 'including', 'that', 'of', 'persons', 'held', 'to', 'service', '.', 'To', 'avoid', 'misconstruction', 'of', 'what', 'I', 'have', 'said', ',', 'I', 'depart', 'from', 'my', 'purpose', 'not', 'to', 'speak', 'of', 'particular', 'amendments', 'so', 'far', 'as', 'to', 'say', 'that', ',', 'holding', 'such', 'a', 'provision', 'to', 'now', 'be', 'implied', 'Constitutional', 'law', ',', 'I', 'have', 'no', 'objection', 'to', 'its', 'being', 'made', 'express', 'and', 'irrevocable', '.', 'The', 'chief', 'magistrate', 'derives', 'all', 'his', 'authority', 'from', 'the', 'people', ',', 'and', 'they', 'have', 'conferred', 'none', 'upon', 'him', 'to', 'fix', 'terms', 'for', 'the', 'separation', 'of', 'the', 'states', '.', 'The', 'people', 'themselves', 'can', 'do', 'this', 'also', 'if', 'they', 'choose;', 'but', 'the', 'executive', ',', 'as', 'such', ',', 'has', 'nothing', 'to', 'do', 'with', 'it', '.', 'His', 'duty', 'is', 'to', 'administer', 'the', 'present', 'government', ',', 'as', 'it', 'came', 'to', 'his', 'hands', ',', 'and', 'to', 'transmit', 'it', ',', 'unimpaired', 'by', 'him', ',', 'to', 'his', 'successor', '.', 'Why', 'should', 'there', 'not', 'be', 'a', 'patient', 'confidence', 'in', 'the', 'ultimate', 'justice', 'of', 'the', 'people?', 'Is', 'there', 'any', 'better', 'or', 'equal', 'hope', 'in', 'the', 'world?', 'In', 'our', 'present', 'differences', 'is', 'either', 'party', 'without', 'faith', 'of', 'being', 'in', 'the', 'right?', 'If', 'the', 'Almighty', 'Ruler', 'of', 'Nations', ',', 'with', 'his', 'eternal', 'truth', 'and', 'justice', ',', 'be', 'on', 'your', 'side', 'of', 'the', 'North', ',', 'or', 'on', 'yours', 'of', 'the', 'South', ',', 'that', 'truth', 'and', 'that', 'justice', 'will', 'surely', 'prevail', ',', 'by', 'the', 'judgment', 'of', 'this', 'great', 'tribunal', ',', 'the', 'American', 'people', '.', 'By', 'the', 'frame', 'of', 'the', 'government', 'under', 'which', 'we', 'live', ',', 'this', 'same', 'people', 'have', 'wisely', 'given', 'their', 'public', 'servants', 'but', 'little', 'power', 'for', 'mischief;', 'and', 'have', ',', 'with', 'equal', 'wisdom', ',', 'provided', 'for', 'the', 'return', 'of', 'that', 'little', 'to', 'their', 'own', 'hands', 'at', 'very', 'short', 'intervals', '.', 'While', 'the', 'people', 'retain', 'their', 'virtue', 'and', 'vigilance', ',', 'no', 'administration', ',', 'by', 'any', 'extreme', 'of', 'wickedness', 'or', 'folly', ',', 'can', 'very', 'seriously', 'injure', 'the', 'government', 'in', 'the', 'short', 'space', 'of', 'four', 'years', '.', 'My', 'countrymen', ',', 'one', 'and', 'all', ',', 'think', 'calmly', 'and', 'WELL', 'upon', 'this', 'whole', 'subject', '.', 'Nothing', 'valuable', 'can', 'be', 'lost', 'by', 'taking', 'time', '.', 'If', 'there', 'be', 'an', 'object', 'to', 'HURRY', 'any', 'of', 'you', 'in', 'hot', 'haste', 'to', 'a', 'step', 'which', 'you', 'would', 'never', 'take', 'DELIBERATELY', ',', 'that', 'object', 'will', 'be', 'frustrated', 'by', 'taking', 'time;', 'but', 'no', 'good', 'object', 'can', 'be', 'frustrated', 'by', 'it', '.', 'Such', 'of', 'you', 'as', 'are', 'now', 'dissatisfied', ',', 'still', 'have', 'the', 'old', 'Constitution', 'unimpaired', ',', 'and', ',', 'on', 'the', 'sensitive', 'point', ',', 'the', 'laws', 'of', 'your', 'own', 'framing', 'under', 'it;', 'while', 'the', 'new', 'administration', 'will', 'have', 'no', 'immediate', 'power', ',', 'if', 'it', 'would', ',', 'to', 'change', 'either', '.', 'If', 'it', 'were', 'admitted', 'that', 'you', 'who', 'are', 'dissatisfied', 'hold', 'the', 'right', 'side', 'in', 'the', 'dispute', ',', 'there', 'still', 'is', 'no', 'single', 'good', 'reason', 'for', 'precipitate', 'action', '.', 'Intelligence', ',', 'patriotism', ',', 'Christianity', ',', 'and', 'a', 'firm', 'reliance', 'on', 'him', 'who', 'has', 'never', 'yet', 'forsaken', 'this', 'favored', 'land', ',', 'are', 'still', 'competent', 'to', 'adjust', 'in', 'the', 'best', 'way', 'all', 'our', 'present', 'difficulty', '.', 'In', 'YOUR', 'hands', ',', 'my', 'dissatisfied', 'fellow-countrymen', ',', 'and', 'not', 'in', 'MINE', ',', 'is', 'the', 'momentous', 'issue', 'of', 'civil', 'war', '.', 'The', 'government', 'will', 'not', 'assail', 'YOU', '.', 'You', 'can', 'have', 'no', 'conflict', 'without', 'being', 'yourselves', 'the', 'aggressors', '.', 'YOU', 'have', 'no', 'oath', 'registered', 'in', 'heaven', 'to', 'destroy', 'the', 'government', ',', 'while', '_I_', 'shall', 'have', 'the', 'most', 'solemn', 'one', 'to', '\"preserve', ',', 'protect', ',', 'and', 'defend', 'it', '.', '\"', 'I', 'am', 'loathe', 'to', 'close', '.', 'We', 'are', 'not', 'enemies', ',', 'but', 'friends', '.', 'We', 'must', 'not', 'be', 'enemies', '.', 'Though', 'passion', 'may', 'have', 'strained', ',', 'it', 'must', 'not', 'break', 'our', 'bonds', 'of', 'affection', '.', 'The', 'mystic', 'chords', 'of', 'memory', ',', 'stretching', 'from', 'every', 'battlefield', 'and', 'patriot', 'grave', 'to', 'every', 'living', 'heart', 'and', 'hearthstone', 'all', 'over', 'this', 'broad', 'land', ',', 'will', 'yet', 'swell', 'the', 'chorus', 'of', 'the', 'Union', 'when', 'again', 'touched', ',', 'as', 'surely', 'they', 'will', 'be', ',', 'by', 'the', 'better', 'angels', 'of', 'our', 'nature', '.', '', '', 'LINCOLN', 'LETTERS', 'By', 'Abraham', 'Lincoln', 'Published', 'by', 'The', 'Bibilophile', 'Society', 'NOTE', 'The', 'letters', 'herein', 'by', 'Lincoln', 'are', 'so', 'thoroughly', 'characteristic', 'of', 'the', 'man', ',', 'and', 'are', 'in', 'themselves', 'so', 'completely', 'self-explanatory', ',', 'that', 'it', 'requires', 'no', 'comment', 'to', 'enable', 'the', 'reader', 'fully', 'to', 'understand', 'and', 'appreciate', 'them', '.', 'It', 'will', 'be', 'observed', 'that', 'the', 'philosophical', 'admonitions', 'in', 'the', 'letter', 'to', 'his', 'brother', ',', 'Johnston', ',', 'were', 'written', 'on', 'the', 'same', 'sheet', 'with', 'the', 'letter', 'to', 'his', 'father', '.', 'The', 'promptness', 'and', 'decision', 'with', 'which', 'Lincoln', 'despatched', 'the', 'multitudinous', 'affairs', 'of', 'his', 'office', 'during', 'the', 'most', 'turbulent', 'scenes', 'of', 'the', 'Civil', 'War', 'are', 'exemplified', 'in', 'his', 'unequivocal', 'order', 'to', 'the', 'Attorney-General', ',', 'indorsed', 'on', 'the', 'back', 'of', 'the', 'letter', 'of', 'Hon.', 'Austin', 'A.', 'King', ',', 'requesting', 'a', 'pardon', 'for', 'John', 'B.', 'Corner', '.', 'The', 'indorsement', 'bears', 'even', 'date', 'with', 'the', 'letter', 'itself', ',', 'and', 'Corner', 'was', 'pardoned', 'on', 'the', 'following', 'day', '.', 'THE', 'ORIGINALS', 'FROM', 'WHICH', 'THE', 'WITHIN', 'FACSIMILES', 'WERE', 'MADE', 'ARE', 'IN', 'THE', 'COLLECTION', 'OF', 'MR', '.', 'WILLIAM', 'K.', 'BIXBY', ',', 'AND', 'THROUGH', 'HIS', 'COURTESY', 'THEY', 'ARE', 'REPRODUCED', 'FOR', 'MEMBERS', 'OF', 'THE', 'BIBLIOPHILE', 'SOCIETY', '[Illustration:', '01', 'TO', 'HIS', 'FATHER]', '[Illustration:', '02', 'TO', 'HIS', 'BROTHER]', '[Illustration:', '03', 'TO', 'HIS', 'BROTHER]', 'Washington', ',', 'Dec.', '24th', ',', '1848', '.', 'My', 'dear', 'father:--', 'Your', 'letter', 'of', 'the', '7th', 'was', 'received', 'night', 'before', 'last', '.', 'I', 'very', 'cheerfully', 'send', 'you', 'the', 'twenty', 'dollars', ',', 'which', 'sum', 'you', 'say', 'is', 'necessary', 'to', 'save', 'your', 'land', 'from', 'sale', '.', 'It', 'is', 'singular', 'that', 'you', 'should', 'have', 'forgotten', 'a', 'judgment', 'against', 'you;', 'and', 'it', 'is', 'more', 'singular', 'that', 'the', 'plaintiff', 'should', 'have', 'let', 'you', 'forget', 'it', 'so', 'long', ',', 'particularly', 'as', 'I', 'suppose', 'you', 'have', 'always', 'had', 'property', 'enough', 'to', 'satisfy', 'a', 'judgment', 'of', 'that', 'amount', '.', 'Before', 'you', 'pay', 'it', ',', 'it', 'would', 'be', 'well', 'to', 'be', 'sure', 'you', 'have', 'not', 'paid', 'it;', 'or', ',', 'at', 'least', ',', 'that', 'you', 'can', 'not', 'prove', 'you', 'have', 'paid', 'it', '.', 'Give', 'my', 'love', 'to', 'Mother', ',', 'and', 'all', 'the', 'connections', '.', 'Affectionately', 'your', 'son', ',', 'A.', 'LINCOLN', '.', '[Written', 'on', 'same', 'page', 'with', 'above', '.', ']', 'Dear', 'Johnston:--', 'Your', 'request', 'for', 'eighty', 'dollars', ',', 'I', 'do', 'not', 'think', 'it', 'best', 'to', 'comply', 'with', 'now', '.', 'At', 'the', 'various', 'times', 'when', 'I', 'have', 'helped', 'you', 'a', 'little', ',', 'you', 'have', 'said', 'to', 'me', ',', '\"We', 'can', 'get', 'along', 'very', 'well', 'now', ',', '\"', 'but', 'in', 'a', 'very', 'short', 'time', 'I', 'find', 'you', 'in', 'the', 'same', 'difficulty', 'again', '.', 'Now', 'this', 'can', 'only', 'happen', 'by', 'some', 'defect', 'in', 'your', 'conduct', '.', 'What', 'that', 'defect', 'is', ',', 'I', 'think', 'I', 'know', '.', 'You', 'are', 'not', '_lazy_', ',', 'and', 'still', 'you', '_are_', 'an', '_idler_', '.', 'I', 'doubt', 'whether', 'since', 'I', 'saw', 'you', ',', 'you', 'have', 'done', 'a', 'good', 'whole', \"day's\", 'work', ',', 'in', 'any', 'one', 'day', '.', 'You', 'do', 'not', 'very', 'much', 'dislike', 'to', 'work', ',', 'and', 'still', 'you', 'do', 'not', 'work', 'much', ',', 'merely', 'because', 'it', 'does', 'not', 'seem', 'to', 'you', 'that', 'you', 'could', 'get', 'much', 'for', 'it', '.', 'This', 'habit', 'of', 'uselessly', 'wasting', 'time', ',', 'is', 'the', 'whole', 'difficulty;', 'and', 'it', 'is', 'vastly', 'important', 'to', 'you', ',', 'and', 'still', 'more', 'so', 'to', 'your', 'children', ',', 'that', 'you', 'should', 'break', 'this', 'habit', '.', 'It', 'is', 'more', 'important', 'to', 'them', ',', 'because', 'they', 'have', 'longer', 'to', 'live', ',', 'and', 'can', 'keep', 'out', 'of', 'an', 'idle', 'habit', 'before', 'they', 'are', 'in', 'it', 'easier', 'than', 'they', 'can', 'get', 'out', 'after', 'they', 'are', 'in', '.', 'You', 'are', 'now', 'in', 'need', 'of', 'some', 'ready', 'money;', 'and', 'what', 'I', 'propose', 'is', ',', 'that', 'you', 'shall', 'go', 'to', 'work', ',', '\"tooth', 'and', 'nail', ',', '\"', 'for', 'somebody', 'who', 'will', 'give', 'you', 'money', 'for', 'it', '.', 'Let', 'father', 'and', 'your', 'boys', 'take', 'charge', 'of', 'things', 'at', 'home--prepare', 'for', 'a', 'crop', ',', 'and', 'make', 'the', 'crop;', 'and', 'you', 'go', 'to', 'work', 'for', 'the', 'best', 'money', 'wages', ',', 'or', 'in', 'discharge', 'of', 'any', 'debt', 'you', 'owe', ',', 'that', 'you', 'can', 'get', '.', 'And', 'to', 'secure', 'you', 'a', 'fair', 'reward', 'for', 'your', 'labor', ',', 'I', 'now', 'promise', 'you', 'that', 'for', 'every', 'dollar', 'you', 'will', ',', 'between', 'this', 'and', 'the', 'first', 'of', 'next', 'May', ',', 'get', 'for', 'your', 'own', 'labor', 'either', 'in', 'money', 'or', 'in', 'your', 'own', 'indebtedness', ',', 'I', 'will', 'then', 'give', 'you', 'one', 'other', 'dollar', '.', 'By', 'this', ',', 'if', 'you', 'hire', 'yourself', 'at', 'ten', 'dollars', 'a', 'month', ',', 'from', 'me', 'you', 'will', 'get', 'ten', 'more', ',', 'making', 'twenty', 'dollars', 'a', 'month', 'for', 'your', 'work', '.', 'In', 'this', ',', 'I', 'do', 'not', 'mean', 'you', 'shall', 'go', 'off', 'to', 'St.', 'Louis', ',', 'or', 'the', 'lead', 'mines', ',', 'or', 'the', 'gold', 'mines', ',', 'in', 'California', ',', 'but', 'I', 'mean', 'for', 'you', 'to', 'go', 'at', 'it', 'for', 'the', 'best', 'wages', 'you', 'can', 'get', 'close', 'to', 'home', ',', 'in', 'Coles', 'County', '.', 'Now', 'if', 'you', 'will', 'do', 'this', ',', 'you', 'will', 'soon', 'be', 'out', 'of', 'debt', ',', 'and', 'what', 'is', 'better', ',', 'you', 'will', 'have', 'a', 'habit', 'that', 'will', 'keep', 'you', 'from', 'getting', 'in', 'debt', 'again', '.', 'But', 'if', 'I', 'should', 'now', 'clear', 'you', 'out', ',', 'next', 'year', 'you', 'will', 'be', 'just', 'as', 'deep', 'in', 'as', 'ever', '.', 'You', 'say', 'you', 'would', 'almost', 'give', 'your', 'place', 'in', 'Heaven', 'for', '$70', 'or', '$80', '.', 'Then', 'you', 'value', 'your', 'place', 'in', 'Heaven', 'very', 'cheaply', ',', 'for', 'I', 'am', 'sure', 'you', 'can', 'with', 'the', 'offer', 'I', 'make', 'you', 'get', 'the', 'seventy', 'or', 'eighty', 'dollars', 'for', 'four', 'or', 'five', \"months'\", 'work', '.', 'You', 'say', 'if', 'I', 'furnish', 'you', 'the', 'money', 'you', 'will', 'deed', 'me', 'the', 'land', ',', 'and', 'if', 'you', \"don't\", 'pay', 'the', 'money', 'back', ',', 'you', 'will', 'deliver', 'possession--Nonsense!', 'If', 'you', \"can't\", 'now', 'live', '_with_', 'the', 'land', ',', 'how', 'will', 'you', 'then', 'live', 'without', 'it?', 'You', 'have', 'always', 'been', 'kind', 'to', 'me', ',', 'and', 'I', 'do', 'not', 'now', 'mean', 'to', 'be', 'unkind', 'to', 'you', '.', 'On', 'the', 'contrary', ',', 'if', 'you', 'will', 'but', 'follow', 'my', 'advice', ',', 'you', 'will', 'find', 'it', 'worth', 'more', 'than', 'eight', 'times', 'eighty', 'dollars', 'to', 'you', '.', 'Affectionately', 'your', 'brother', ',', 'A.', 'LINCOLN', '.', '[Illustration:', '04', 'TO', 'GENERAL', 'GRANT]', 'Washington', ',', 'April', '30', ',', '1864', '.', 'Executive', 'Mansion', ',', 'Lieutenant-General', 'Grant', ',', '--', 'Not', 'expecting', 'to', 'see', 'you', 'again', 'before', 'the', 'spring', 'campaign', 'opens', ',', 'I', 'wish', 'to', 'express', ',', 'in', 'this', 'way', ',', 'my', 'entire', 'satisfaction', 'with', 'what', 'you', 'have', 'done', 'up', 'to', 'this', 'time', ',', 'so', 'far', 'as', 'I', 'understand', 'it', '.', 'The', 'particulars', 'of', 'your', 'plans', 'I', 'neither', 'know', ',', 'or', 'seek', 'to', 'know', '.', 'You', 'are', 'vigilant', 'and', 'self', 'reliant;', 'and', ',', 'pleased', 'with', 'this', ',', 'I', 'wish', 'not', 'to', 'obtrude', 'any', 'constraints', 'or', 'restraints', 'upon', 'you', '.', 'While', 'I', 'am', 'very', 'anxious', 'that', 'any', 'great', 'disaster', ',', 'or', 'the', 'capture', 'of', 'our', 'men', 'in', 'great', 'numbers', ',', 'shall', 'be', 'avoided', ',', 'I', 'know', 'these', 'points', 'are', 'less', 'likely', 'to', 'escape', 'your', 'attention', 'than', 'they', 'would', 'be', 'mine', '.', 'If', 'there', 'is', 'anything', 'wanting', 'which', 'is', 'within', 'my', 'power', 'to', 'give', ',', 'do', 'not', 'fail', 'to', 'let', 'me', 'know', 'it', '.', 'And', 'now', 'with', 'a', 'brave', 'Army', ',', 'and', 'a', 'just', 'cause', ',', 'may', 'God', 'sustain', 'you', '.', 'Yours', 'very', 'truly', ',', 'A.', 'LINCOLN', '.', '[Illustration:', '05', 'REQUEST', 'FOR', 'A', 'PARDON]', '[Illustration:', '06', 'REQUEST', 'FOR', 'A', 'PARDON]', '[Illustration:', '07', 'APPROVAL', 'OF', 'A', 'PARDON]', '']\n"
     ]
    }
   ],
   "source": [
    "from __future__ import division\n",
    "\n",
    "import sys, re, glob\n",
    "\n",
    "from collections import Counter\n",
    "\n",
    "def tokenize_words():\n",
    "\n",
    "\twords_exceptions = ['Dr', 'dr', 'Mr', 'mr', 'Mrs', 'mrs', 'Btech', 'Mtech', 'Dec', 'St', 'A', 'B', 'C', 'D', 'E', 'F', 'G'\n",
    "                       'H', 'I', 'J', 'K', 'L', 'M', 'N', 'O', 'P', 'Q', 'R', 'S', 'T', 'U', 'V', 'W', 'X', 'Y', 'Z', 'Hon']\n",
    "\n",
    "\tpath = '/home/aditya3498/Downloads/Gutenberg/Check/*.txt'\n",
    "\n",
    "\tfiles = glob.glob(path)\n",
    "\n",
    "\tcorpus = []\n",
    "\n",
    "\tfor name in files:\n",
    "\n",
    "\t\twith open(name) as f:\n",
    "\n",
    "\t\t\tx = f.read()\n",
    "\n",
    "\t\t\tline = re.sub(r'\\s', ' ', x)\n",
    "\n",
    "\t\t\tline1 = re.sub(r'\\.', ' . ', line)\n",
    "\n",
    "\t\t\tline2 = re.sub(r'\\,', ' , ', line1)\n",
    "\n",
    "\t\t\tline3 = re.sub(r'[ ]+', ' ', line2)\n",
    "\n",
    "\t\t\ttokenized = re.split(' ', line3)\n",
    "\n",
    "\t\t\tcorpus = corpus + tokenized\n",
    "\n",
    "\t\t\ti = 1\n",
    "\n",
    "\t\t\twhile i < len(corpus):\n",
    "\n",
    "\t\t\t\tif corpus[i] == '.':\n",
    "\n",
    "\t\t\t\t\tif corpus[i - 1] in words_exceptions:\n",
    "\n",
    "\t\t\t\t\t\tcorpus[i - 1] += '.'\n",
    "\n",
    "\t\t\t\t\t\tdel(corpus[i])\n",
    "\n",
    "\t\t\t\t\telse:\n",
    "\n",
    "\t\t\t\t\t\tpass\n",
    "\t\t\t\telse:\n",
    "\n",
    "\t\t\t\t\tpass\n",
    "\n",
    "\t\t\t\ti = i + 1\n",
    "\n",
    "\t\tf.close()\n",
    "\n",
    "\treturn corpus   \n",
    "\t\t\t\n",
    "def tokenize_sentences():\n",
    "\n",
    "\tcorpus = tokenize_words()\n",
    "\n",
    "\tnew_corpus = []\n",
    "\n",
    "\tsentence = []\n",
    "\n",
    "\tfor word in corpus:\n",
    "\n",
    "\t\tif word == '.':\n",
    "\n",
    "\t\t\tnew_corpus.append(sentence)\n",
    "\n",
    "\t\t\tsentence = []\n",
    "\n",
    "\t\telse:\n",
    "\n",
    "\t\t\tsentence.append(word)\n",
    "\n",
    "\treturn new_corpus\n",
    "\n",
    "print tokenize_words()"
   ]
  },
  {
   "cell_type": "markdown",
   "metadata": {
    "colab_type": "text",
    "id": "7gwBEe5bgAbn"
   },
   "source": [
    "#Language Model and Smoothing\n",
    "\n",
    "FOR MY LANGUAGE MODEL I AM GOING TO BE USING TRIGRAMS."
   ]
  },
  {
   "cell_type": "code",
   "execution_count": 28,
   "metadata": {
    "colab": {},
    "colab_type": "code",
    "id": "1Th9ogrogKTO"
   },
   "outputs": [
    {
     "data": {
      "text/html": [
       "<script>requirejs.config({paths: { 'plotly': ['https://cdn.plot.ly/plotly-latest.min']},});if(!window.Plotly) {{require(['plotly'],function(plotly) {window.Plotly=plotly;});}}</script>"
      ],
      "text/vnd.plotly.v1+html": [
       "<script>requirejs.config({paths: { 'plotly': ['https://cdn.plot.ly/plotly-latest.min']},});if(!window.Plotly) {{require(['plotly'],function(plotly) {window.Plotly=plotly;});}}</script>"
      ]
     },
     "metadata": {},
     "output_type": "display_data"
    },
    {
     "data": {
      "application/vnd.plotly.v1+json": {
       "data": [
        {
         "cells": {
          "values": [
           [
            [
             [
              ","
             ],
             363
            ],
            [
             [
              "the"
             ],
             285
            ],
            [
             [
              "to"
             ],
             173
            ],
            [
             [
              "of"
             ],
             166
            ],
            [
             [
              "and"
             ],
             127
            ],
            [
             [
              "in"
             ],
             98
            ],
            [
             [
              "be"
             ],
             86
            ],
            [
             [
              "that"
             ],
             84
            ],
            [
             [
              "you"
             ],
             76
            ],
            [
             [
              "a"
             ],
             73
            ]
           ],
           [
            [
             [
              "increased"
             ],
             1
            ],
            [
             [
              "measure"
             ],
             1
            ],
            [
             [
              "highly"
             ],
             1
            ],
            [
             [
              "resolve"
             ],
             1
            ],
            [
             [
              "died"
             ],
             1
            ],
            [
             [
              "vain"
             ],
             1
            ],
            [
             [
              "birth"
             ],
             1
            ],
            [
             [
              "freedom"
             ],
             1
            ],
            [
             [
              "perish"
             ],
             1
            ],
            [
             [
              "earth"
             ],
             1
            ]
           ]
          ]
         },
         "header": {
          "values": [
           "A Scores",
           "B Scores"
          ]
         },
         "type": "table",
         "uid": "a8e616f0-a593-11e8-b2b1-ec8eb5421e43"
        }
       ],
       "layout": {}
      },
      "text/html": [
       "<div id=\"3f2c4f30-b0d2-4f6e-bef4-368cc0fbde52\" style=\"height: 525px; width: 100%;\" class=\"plotly-graph-div\"></div><script type=\"text/javascript\">require([\"plotly\"], function(Plotly) { window.PLOTLYENV=window.PLOTLYENV || {};window.PLOTLYENV.BASE_URL=\"https://plot.ly\";Plotly.newPlot(\"3f2c4f30-b0d2-4f6e-bef4-368cc0fbde52\", [{\"header\": {\"values\": [\"A Scores\", \"B Scores\"]}, \"cells\": {\"values\": [[[[\",\"], 363], [[\"the\"], 285], [[\"to\"], 173], [[\"of\"], 166], [[\"and\"], 127], [[\"in\"], 98], [[\"be\"], 86], [[\"that\"], 84], [[\"you\"], 76], [[\"a\"], 73]], [[[\"increased\"], 1], [[\"measure\"], 1], [[\"highly\"], 1], [[\"resolve\"], 1], [[\"died\"], 1], [[\"vain\"], 1], [[\"birth\"], 1], [[\"freedom\"], 1], [[\"perish\"], 1], [[\"earth\"], 1]]]}, \"type\": \"table\", \"uid\": \"a8e616f1-a593-11e8-b2b1-ec8eb5421e43\"}], {}, {\"linkText\": \"Export to plot.ly\", \"showLink\": true})});</script>"
      ],
      "text/vnd.plotly.v1+html": [
       "<div id=\"3f2c4f30-b0d2-4f6e-bef4-368cc0fbde52\" style=\"height: 525px; width: 100%;\" class=\"plotly-graph-div\"></div><script type=\"text/javascript\">require([\"plotly\"], function(Plotly) { window.PLOTLYENV=window.PLOTLYENV || {};window.PLOTLYENV.BASE_URL=\"https://plot.ly\";Plotly.newPlot(\"3f2c4f30-b0d2-4f6e-bef4-368cc0fbde52\", [{\"header\": {\"values\": [\"A Scores\", \"B Scores\"]}, \"cells\": {\"values\": [[[[\",\"], 363], [[\"the\"], 285], [[\"to\"], 173], [[\"of\"], 166], [[\"and\"], 127], [[\"in\"], 98], [[\"be\"], 86], [[\"that\"], 84], [[\"you\"], 76], [[\"a\"], 73]], [[[\"increased\"], 1], [[\"measure\"], 1], [[\"highly\"], 1], [[\"resolve\"], 1], [[\"died\"], 1], [[\"vain\"], 1], [[\"birth\"], 1], [[\"freedom\"], 1], [[\"perish\"], 1], [[\"earth\"], 1]]]}, \"type\": \"table\", \"uid\": \"a8e616f1-a593-11e8-b2b1-ec8eb5421e43\"}], {}, {\"linkText\": \"Export to plot.ly\", \"showLink\": true})});</script>"
      ]
     },
     "metadata": {},
     "output_type": "display_data"
    }
   ],
   "source": [
    "from ipy_table import *\n",
    "\n",
    "from plotly import __version__\n",
    "\n",
    "import numpy as np\n",
    "\n",
    "from plotly.offline import download_plotlyjs, init_notebook_mode, plot, iplot\n",
    "\n",
    "from plotly.graph_objs import *\n",
    "\n",
    "# Build your language model\n",
    "# For any language model you build, print a sample of the top 10 and the bottom 10 frequently occuring N-grams.\n",
    "# For any language model you build, display plots of N-Gram vs Freq sorted by frequency (descending) and log-log plots of the same\n",
    "def count_words():\n",
    "\n",
    "\tlist1 = []\n",
    "\n",
    "\tlist2 = []\n",
    "\n",
    "\tlist3 = []\n",
    "\n",
    "\tcorpus = tokenize_words()                       #tokenizing corpus via words\n",
    "\n",
    "\tfor word in corpus:                             #for UNIGRAMS\n",
    "\n",
    "\t\tif len(word) == 1:\n",
    "\n",
    "\t\t\tlist3.append(word)\n",
    "\n",
    "\t\telse:\n",
    "\n",
    "\t\t\tj = 0\n",
    "\n",
    "\t\t\twhile j < len(word):\n",
    "\n",
    "\t\t\t\tif j + 1 <= len(word):\n",
    "\n",
    "\t\t\t\t\tlist3.append(word[j : j + 1])\n",
    "\n",
    "\t\t\t\telse:\n",
    "\n",
    "\t\t\t\t\tbreak\n",
    "\n",
    "\t\t\t\tj = j + 1\n",
    "\n",
    "\tfor word in corpus:                                  #for BIGRAMS\n",
    "\n",
    "\t\tif len(word) == 2:\n",
    "\n",
    "\t\t\tlist2.append(word)\n",
    "\n",
    "\t\telse:\n",
    "\n",
    "\t\t\tj = 0\n",
    "\n",
    "\t\t\twhile j < len(word):\n",
    "\n",
    "\t\t\t\tif j + 2 <= len(word):\n",
    "\n",
    "\t\t\t\t\tlist2.append(word[j : j + 2])\n",
    "\n",
    "\t\t\t\telse:\n",
    "\n",
    "\t\t\t\t\tbreak\n",
    "\n",
    "\t\t\t\tj = j + 1\n",
    "\n",
    "\tfor word in corpus:                              #for TRIGRAMS\n",
    "\n",
    "\t\tif len(word) == 3:\n",
    "\n",
    "\t\t\tlist1.append(word)\n",
    "\n",
    "\t\telse:\n",
    "\n",
    "\t\t\tj = 0\n",
    "\n",
    "\t\t\twhile j < len(word):\n",
    "\n",
    "\t\t\t\tif j + 3 <= len(word):\n",
    "\n",
    "\t\t\t\t\tlist1.append(word[j : j + 3])\n",
    "\n",
    "\t\t\t\telse:\n",
    "\n",
    "\t\t\t\t\tbreak\n",
    "\n",
    "\t\t\t\tj = j + 1\n",
    "\n",
    "\ttrigrams_count = Counter(list1)           #finds count\n",
    "\n",
    "\tbigrams_count = Counter(list2)\n",
    "\n",
    "\tunigrams_count = Counter(list3)\n",
    "\n",
    "\tlist_ngrams = [unigrams_count, bigrams_count, trigrams_count]\n",
    "\n",
    "\treturn list_ngrams           #returns list of all counts combined\n",
    "\n",
    "def count_sentences():\n",
    "\n",
    "\tlist_tri = []\n",
    "\n",
    "\tlist_bi = []\n",
    "\n",
    "\tlist_uni = []\n",
    "\n",
    "\tlist_tri_c = []\n",
    "\n",
    "\tlist_bi_c = []\n",
    "\n",
    "\tlist_uni_c = []\n",
    "\n",
    "\tlist_all = []\n",
    "\n",
    "\tnew_corpus = tokenize_sentences()           #tokenizing the corpus via sentences\n",
    "\n",
    "\tfor sentence in new_corpus:\n",
    "\n",
    "\t\tif len(sentence) == 3:\n",
    "\n",
    "\t\t\tlist_tri.append(sentence)\n",
    "\n",
    "\t\telse:\n",
    "\n",
    "\t\t\ti = 0\n",
    "\n",
    "\t\t\twhile i < len(sentence):\n",
    "\n",
    "\t\t\t\tif i + 3 <= len(sentence):\n",
    "\n",
    "\t\t\t\t\tlist_tri.append(sentence[i : i + 3])\n",
    "\n",
    "\t\t\t\telse:\n",
    "\n",
    "\t\t\t\t\tbreak\n",
    "\n",
    "\t\t\t\ti = i + 1\n",
    "\n",
    "\tfor sentence in new_corpus:\n",
    "\n",
    "\t\tif len(sentence) == 2:\n",
    "\n",
    "\t\t\tlist_bi.append(sentence)\n",
    "\n",
    "\t\telse:\n",
    "\n",
    "\t\t\ti = 0\n",
    "\n",
    "\t\t\twhile i < len(sentence):\n",
    "\n",
    "\t\t\t\tif i + 2 <= len(sentence):\n",
    "\n",
    "\t\t\t\t\tlist_bi.append(sentence[i : i + 2])\n",
    "\n",
    "\t\t\t\telse:\n",
    "\n",
    "\t\t\t\t\tbreak\n",
    "\n",
    "\t\t\t\ti = i + 1\n",
    "\n",
    "\tfor sentence in new_corpus:\n",
    "\n",
    "\t\tif len(sentence) == 1:\n",
    "\n",
    "\t\t\tlist_uni.append(sentence)\n",
    "\n",
    "\t\telse:\n",
    "\n",
    "\t\t\ti = 0\n",
    "\n",
    "\t\t\twhile i < len(sentence):\n",
    "\n",
    "\t\t\t\tif i + 1 <= len(sentence):\n",
    "\n",
    "\t\t\t\t\tlist_uni.append(sentence[i : i + 1])\n",
    "\n",
    "\t\t\t\telse:\n",
    "\n",
    "\t\t\t\t\tbreak\n",
    "\n",
    "\t\t\t\ti = i + 1\n",
    "\n",
    "\tfor trigram in list_tri:\n",
    "\n",
    "\t\tflag = 0\n",
    "\n",
    "\t\tfor x in list_tri_c:\n",
    "\n",
    "\t\t\tif trigram == x[0]:\n",
    "\n",
    "\t\t\t\tx[1] = x[1] + 1\n",
    "\n",
    "\t\t\t\tflag = 1\n",
    "\n",
    "\t\t\t\tbreak\n",
    "\n",
    "\t\tif flag == 0:\n",
    "\n",
    "\t\t\tlist_tri_c.append([trigram, 1])\n",
    "\n",
    "\tfor bigram in list_bi:\n",
    "\n",
    "\t\tflag = 0\n",
    "#corpus = count_sentences()\n",
    "\n",
    "#sorted_tokens = sorted(corpus[0], key = lambda x : x[1], reverse = True)\n",
    "\n",
    "#init_notebook_mode(connected=True)\n",
    "\n",
    "#iplot([{\"x\" : list(zip(*sorted_tokens))[0], \"y\": list(zip(*sorted_tokens))[1]}])\n",
    "\t\tfor x in list_bi_c:\n",
    "\n",
    "\t\t\tif bigram == x[0]:\n",
    "\n",
    "\t\t\t\tx[1] = x[1] + 1\n",
    "\n",
    "\t\t\t\tflag = 1\n",
    "\n",
    "\t\t\t\tbreak\n",
    "\n",
    "\t\tif flag == 0:\n",
    "\n",
    "\t\t\tlist_bi_c.append([bigram, 1])\n",
    "\n",
    "\tfor unigram in list_uni:\n",
    "\n",
    "\t\tflag = 0\n",
    "\n",
    "\t\tfor x in list_uni_c:\n",
    "\n",
    "\t\t\tif unigram == x[0]:\n",
    "\n",
    "\t\t\t\tx[1] = x[1] + 1\n",
    "\n",
    "\t\t\t\tflag = 1\n",
    "\n",
    "\t\t\t\tbreak\n",
    "\n",
    "\t\tif flag == 0:\n",
    "\n",
    "\t\t\tlist_uni_c.append([unigram, 1])\n",
    "\n",
    "\tlist_all = [list_uni_c, list_bi_c, list_tri_c]\n",
    "\n",
    "\treturn list_all\n",
    "  \n",
    "def laplace_smoothing(word, n_grams):\n",
    "   #Using laplace smoothing\n",
    "\n",
    "\tlist1 = []\n",
    "\n",
    "\tunigram_count = ngrams[0]\n",
    "\n",
    "\tbigram_count = ngrams[1]\n",
    "\n",
    "\ttrigram_count = ngrams[2]\n",
    "\n",
    "\tif len(word) == 3:\n",
    "\n",
    "\t\tlist1.append(word)\n",
    "\n",
    "\telse:\n",
    "\n",
    "\t\tj = 0\n",
    "\n",
    "\t\twhile j < len(word):\n",
    "\n",
    "\t\t\tif j + 3 <= len(word):\n",
    "\n",
    "\t\t\t\tlist1.append(word[j : j + 3])\n",
    "\n",
    "\t\t\telse:\n",
    "\n",
    "\t\t\t\tbreak\n",
    "\n",
    "\t\t\tj = j + 1\n",
    "\n",
    "\tr = 1\n",
    "\n",
    "\tc = len(unigram_count)\n",
    "\n",
    "\tfor i in list1:\n",
    "\n",
    "\t\tp = trigram_count[i] + 1                 #implementing laplace smoothing\n",
    "\n",
    "\t\tw = bigram_count[i[0 : 2]] + (c * c * c)\n",
    "\n",
    "\t\tr *= (p / w)\n",
    "\n",
    "\treturn r\n",
    "  \n",
    "corpus = count_sentences()\n",
    "\n",
    "list1 = []\n",
    "        \n",
    "def sort(list1):\n",
    "    \n",
    "    return sorted(list1, key = lambda x : x[1], reverse = True)\n",
    "\n",
    "def sort1(list1):\n",
    "    \n",
    "    return sorted(list1, key = lambda x : x[1])\n",
    "\n",
    "for i in corpus[0]:\n",
    "    \n",
    "    list1.append(i)\n",
    "\n",
    "from plotly.offline import download_plotlyjs, init_notebook_mode, plot, iplot\n",
    "\n",
    "init_notebook_mode(connected=True)\n",
    "\n",
    "import plotly.graph_objs as go\n",
    "\n",
    "trace = go.Table(\n",
    "    \n",
    "    header = dict(values= ['A Scores', 'B Scores']),\n",
    "    \n",
    "    cells = dict(values = [sort(list1)[0:10],\n",
    "                      \n",
    "                           sort(list1)[-10:]]))\n",
    "\n",
    "data = [trace] \n",
    "\n",
    "iplot(data, filename = 'basic_table')\n",
    "#make_table(sort(list1)[0:10])     #Printing the table for top 10 bigrams"
   ]
  },
  {
   "cell_type": "code",
   "execution_count": null,
   "metadata": {},
   "outputs": [],
   "source": [
    "TRIED IMPLEMENTING KNESER NEY"
   ]
  },
  {
   "cell_type": "code",
   "execution_count": 91,
   "metadata": {},
   "outputs": [
    {
     "name": "stdout",
     "output_type": "stream",
     "text": [
      "22\n",
      "None\n"
     ]
    }
   ],
   "source": [
    "def kneser_ney(ngrams, bigram):         #NOT COMPLETELY DONE\n",
    "\n",
    "    D = 0.75\n",
    "\n",
    "    sum_uni = 0\n",
    "\n",
    "    arr = []\n",
    "\n",
    "    for i in ngrams[0]:\n",
    "\n",
    "        sum_uni = sum_uni + i[1]\n",
    "\n",
    "#print sum_tri\n",
    "    \n",
    "    for i in ngrams[1]:\n",
    "\n",
    "        arr.append(i[0])\t\n",
    "\n",
    "    c, a, b = 0, 0, 0\n",
    "\n",
    "    first = bigram.split(\" \")[0]\n",
    "\n",
    "    second = bigram.split(\" \")[1]\n",
    "\n",
    "    for x in arr:\n",
    "\n",
    "\t\t#abc = x.split()\n",
    "\n",
    "        if second == x[1]:\n",
    "\n",
    "            c = c + 1\n",
    "\n",
    "        if first == x[0]:\n",
    "\n",
    "            a = a + 1\n",
    "\n",
    "    for i in ngrams[0]:\n",
    "\n",
    "        if first == i[0][0]:\n",
    "\n",
    "             b = i[1]\n",
    "#b = ngrams[0][first]\n",
    "\n",
    "    print b\n",
    "\n",
    "ngrams = count_sentences()\n",
    "\n",
    "print kneser_ney(ngrams, 'The apple')"
   ]
  },
  {
   "cell_type": "markdown",
   "metadata": {
    "colab_type": "text",
    "id": "IjoF5Wlsaf_M"
   },
   "source": [
    "#Task 2: Unigrams and Spelling Correction\n",
    "\n",
    "Calculate unigram frequencies and plot them in the descending order of frequency"
   ]
  },
  {
   "cell_type": "code",
   "execution_count": null,
   "metadata": {
    "colab": {},
    "colab_type": "code",
    "id": "Oehobp6dbXp7"
   },
   "outputs": [],
   "source": [
    "from plotly import __version__\n",
    "\n",
    "from plotly.offline import download_plotlyjs, init_notebook_mode, plot, iplot\n",
    "\n",
    "from plotly.graph_objs import *\n",
    "\n",
    "import math\n",
    "\n",
    "corpus = count_sentences()\n",
    "\n",
    "list1 = []\n",
    "        \n",
    "def sort(list1):\n",
    "    \n",
    "    return sorted(list1, key = lambda x : x[1], reverse = True)\n",
    "\n",
    "def sort1(list1):\n",
    "    \n",
    "    return sorted(list1, key = lambda x : x[1])\n",
    "\n",
    "for i in corpus[0]:\n",
    "    \n",
    "    list1.append(i)\n",
    "\n",
    "arr1 = [str(x) for x,y in sort(list1)]\n",
    "\n",
    "boom1 = [str(y) for x,y in sort(list1)]\n",
    "\n",
    "arr2 = [math.log(z,10) for m,z in sort(list1)]\n",
    "\n",
    "init_notebook_mode(connected=True)\n",
    "\n",
    "iplot([{\"x\" : arr1, \"y\": boom1}])\n",
    "\n",
    "iplot([{\"x\" : arr1, \"y\": arr2}])\n",
    "\n",
    "def spell_checker(word, n_grams):\n",
    "   #Using laplace smoothing\n",
    "\n",
    "\tlist1 = []\n",
    "\n",
    "\tunigram_count = ngrams[0]\n",
    "\n",
    "\tbigram_count = ngrams[1]\n",
    "\n",
    "\ttrigram_count = ngrams[2]\n",
    "\n",
    "\tif len(word) == 3:\n",
    "\n",
    "\t\tlist1.append(word)\n",
    "\n",
    "\telse:\n",
    "\n",
    "\t\tj = 0\n",
    "\n",
    "\t\twhile j < len(word):\n",
    "\n",
    "\t\t\tif j + 3 <= len(word):\n",
    "\n",
    "\t\t\t\tlist1.append(word[j : j + 3])\n",
    "\n",
    "\t\t\telse:\n",
    "\n",
    "\t\t\t\tbreak\n",
    "\n",
    "\t\t\tj = j + 1\n",
    "\n",
    "\tr = 1\n",
    "\n",
    "\tc = len(unigram_count)\n",
    "\n",
    "\tfor i in list1:\n",
    "\n",
    "\t\tp = trigram_count[i] + 1                 #implementing laplace smoothing\n",
    "\n",
    "\t\tw = bigram_count[i[0 : 2]] + (c * c * c)\n",
    "\n",
    "\t\tr *= (p / w)\n",
    "\n",
    "\treturn r\n"
   ]
  },
  {
   "cell_type": "markdown",
   "metadata": {
    "colab_type": "text",
    "id": "sgPpfeyYgLUv"
   },
   "source": [
    "#Task 3 : Grammaticality Test"
   ]
  },
  {
   "cell_type": "code",
   "execution_count": null,
   "metadata": {
    "colab": {},
    "colab_type": "code",
    "id": "xX0RvOpLgYgR"
   },
   "outputs": [],
   "source": [
    "def grammatical(sentence, list_all):\n",
    "\n",
    "\tlist1 = []\n",
    "\n",
    "\tlist_uni_c = list_all[0]\n",
    "\n",
    "\tlist_bi_c = list_all[1]\n",
    "\n",
    "\tlist_tri_c = list_all[2]\n",
    "\n",
    "\tnew_corpus = re.split(' ', sentence)\n",
    "\n",
    "\ti = 0\n",
    "\n",
    "\twhile i < len(new_corpus):\n",
    "\n",
    "\t\tif i + 3 <= len(new_corpus):\n",
    "\n",
    "\t\t\tlist1.append(new_corpus[i : i + 3])\n",
    "\n",
    "\t\ti = i + 1\n",
    "\n",
    "\tc = len(list_uni_c)\n",
    "\n",
    "\ti = 0\n",
    "\n",
    "\tr = 1\n",
    "\n",
    "\tfor i in list1:\n",
    "\n",
    "\t\tfor j in list_tri_c:\n",
    "\n",
    "\t\t\tif i == j[0]:\n",
    "\n",
    "\t\t\t\tp =  j[1] + 1\n",
    "\n",
    "\t\t\t\tw = j[0 : 2][1] + (c * c * c)\n",
    "\n",
    "\t\t\t\tr *= (p / w)\n",
    "\n",
    "\t\t\t\tbreak\n",
    "\n",
    "\treturn r"
   ]
  },
  {
   "cell_type": "code",
   "execution_count": null,
   "metadata": {},
   "outputs": [],
   "source": [
    "SUGGESTING NEW WORDS"
   ]
  },
  {
   "cell_type": "code",
   "execution_count": null,
   "metadata": {},
   "outputs": [],
   "source": [
    "def suggest(word, ngrams):            #SUGGESTING NEW WORDS USING 1 EDIT DISTANCE(NOT ENTIRELY CORRECT)\n",
    "\n",
    "\tnew_word = []\n",
    "\n",
    "\tlist_new = []\n",
    "\n",
    "\tprob_list = []\n",
    "\n",
    "\tindex = []\n",
    "\n",
    "\tif len(word) == 3:\n",
    "\n",
    "\t\ti = 0\n",
    "\n",
    "\t\twhile i < 3:\n",
    "\n",
    "\t\t\ty = 97\n",
    "\n",
    "\t\t\twhile y <= 122:\n",
    "\n",
    "\t\t\t\tword1 = word.replace(word[i],chr(y))\n",
    "\n",
    "\t\t\t\tif(word1 == word):\n",
    "\n",
    "\t\t\t\t\tpass\n",
    "\n",
    "\t\t\t\telse:\n",
    "\n",
    "\t\t\t\t\tnew_word.append(word1) \n",
    "\n",
    "\t\t\t\ty = y + 1\n",
    "\n",
    "\t\t\ti = i + 1\n",
    "\n",
    "\telse:\n",
    "\n",
    "\t\tj = 0\n",
    "\n",
    "\t\twhile j < len(word):\n",
    "\n",
    "\t\t\tk = j + 1\n",
    "\n",
    "\t\t\twhile k < len(word):\n",
    "\n",
    "\t\t\t\tif word[j] == word[k]:\n",
    "\n",
    "\t\t\t\t\tpos = word.index(word[j], word.index(word[j]) + 1)\n",
    "\n",
    "\t\t\t\t\t#print pos\n",
    "\n",
    "\t\t\t\t\t#flag = 1\n",
    "\n",
    "\t\t\t\t\ty = 97\n",
    "\n",
    "\t\t\t\t\twhile y <= 122:\n",
    "\n",
    "\t\t\t\t\t\tword2 = word[:pos] + chr(y) + word[pos + 1:]\n",
    "\n",
    "\t\t\t\t\t\tif(word2 == word):\n",
    "\n",
    "\t\t\t\t\t\t\tpass\n",
    "\n",
    "\t\t\t\t\t\telse:\n",
    "\n",
    "\t\t\t\t\t\t\tnew_word.append(word2) \n",
    "\n",
    "\t\t\t\t\t\ty = y + 1\n",
    "\n",
    "\t\t\t\tk = k + 1\n",
    "\n",
    "\t\t\tj = j + 1\n",
    "\n",
    "\t\tl = 0\n",
    "\n",
    "\t\twhile l < len(word):\n",
    "\n",
    "\t\t\ttemp = word\n",
    "\n",
    "\t\t\ty = 97\n",
    "\n",
    "\t\t\twhile y <= 122:\n",
    "\n",
    "\t\t\t\tword1 = temp.replace(temp[l], chr(y), 1)\n",
    "\n",
    "\t\t\t\tif(word1 == temp):\n",
    "\n",
    "\t\t\t\t\tpass\n",
    "\n",
    "\t\t\t\telse:\n",
    "\n",
    "\t\t\t\t\tnew_word.append(word1) \n",
    "\n",
    "\t\t\t\ty = y + 1\n",
    "\n",
    "\t\t\tl = l + 1\n",
    "\n",
    "\tcomplete = sorted(list(set(new_word)))\n",
    "\n",
    "\tcomplete.append(word)\n",
    "\n",
    "\tfor word in complete:\n",
    "\n",
    "\t\tprob_list.append(spelling(word, ngrams))\n",
    "\n",
    "\t\tindex.append(word)\n",
    "\n",
    "\ti = 0\n",
    "\n",
    "\twhile i < len(prob_list):\n",
    "\n",
    "\t\tif prob_list[i] == max(prob_list):\n",
    "\n",
    "\t\t\tindex1 = i\n",
    "\n",
    "\t\t\tbreak\n",
    "\n",
    "\t\ti = i + 1\n",
    "\n",
    "\treturn index[index1]"
   ]
  }
 ],
 "metadata": {
  "colab": {
   "collapsed_sections": [],
   "name": "Error Correction Demo.ipynb",
   "provenance": [],
   "version": "0.3.2"
  },
  "kernelspec": {
   "display_name": "Python 2",
   "language": "python",
   "name": "python2"
  },
  "language_info": {
   "codemirror_mode": {
    "name": "ipython",
    "version": 2
   },
   "file_extension": ".py",
   "mimetype": "text/x-python",
   "name": "python",
   "nbconvert_exporter": "python",
   "pygments_lexer": "ipython2",
   "version": "2.7.17"
  }
 },
 "nbformat": 4,
 "nbformat_minor": 1
}
